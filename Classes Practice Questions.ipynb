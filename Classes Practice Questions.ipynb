{
 "cells": [
  {
   "cell_type": "code",
   "execution_count": 1,
   "id": "40daf8cb-b041-48c9-bd05-9ad5a0e928ec",
   "metadata": {},
   "outputs": [],
   "source": [
    "# Mishaym iqbal\n",
    "# FA24-BDD-051"
   ]
  },
  {
   "cell_type": "code",
   "execution_count": 3,
   "id": "36db0a75-63a4-47b2-9ab3-0401ab70ec13",
   "metadata": {},
   "outputs": [
    {
     "name": "stdout",
     "output_type": "stream",
     "text": [
      "Mishaym\n",
      "30\n",
      "New York\n"
     ]
    }
   ],
   "source": [
    "#Q1. Create a class Person with attributes name, age, and city\n",
    "class person:\n",
    "    def __init__(self,name,age,city):\n",
    "     self.name=name\n",
    "     self.age=age\n",
    "     self.city=city\n",
    "person_info= person('Mishaym',30,'New York')\n",
    "print(person_info.name)\n",
    "print(person_info.age)\n",
    "print(person_info.city)\n"
   ]
  },
  {
   "cell_type": "code",
   "execution_count": 5,
   "id": "1f2b30b4-e35d-4099-87dc-7a281b2696f2",
   "metadata": {},
   "outputs": [
    {
     "name": "stdout",
     "output_type": "stream",
     "text": [
      "bwm,leaf,2004\n"
     ]
    }
   ],
   "source": [
    "#Q2. Create a class Car with attributes make, model, and year.\n",
    "class car:\n",
    "    def __init__(self,make,model,year):\n",
    "     self.make=make\n",
    "     self.model=model\n",
    "     self.year=year\n",
    "my_car=car('bwm','leaf',2004)\n",
    "print(f\"{my_car.make},{my_car.model},{my_car.year}\")"
   ]
  },
  {
   "cell_type": "code",
   "execution_count": 9,
   "id": "66dd94fc-81f6-49b9-a341-226088d0f049",
   "metadata": {},
   "outputs": [
    {
     "name": "stdout",
     "output_type": "stream",
     "text": [
      "Area: 201.0624\n",
      "Circumference: 50.2656\n"
     ]
    }
   ],
   "source": [
    "#Q3. Create a class Circle with attributes radius and methods to calculate area and circumference.\n",
    "class circle:\n",
    "    def __init__(self,radius):\n",
    "     self.radius=radius\n",
    "    def area(self):\n",
    "     return 3.1416 * (self.radius**2)\n",
    "    def circumference(self):\n",
    "     return 2 * 3.1416 * self.radius\n",
    "Circle=circle(8)\n",
    "print(f\"Area: {Circle.area()}\")\n",
    "print(f\"Circumference: {Circle.circumference()}\")"
   ]
  },
  {
   "cell_type": "code",
   "execution_count": 11,
   "id": "fff5e972-a7fb-4970-aa30-6c051e11907d",
   "metadata": {},
   "outputs": [
    {
     "name": "stdout",
     "output_type": "stream",
     "text": [
      "Area:27\n",
      "Perimeter:24\n"
     ]
    }
   ],
   "source": [
    "#Q4. Create a class Rectangle with attributes length and width and methods to calculate area and perimeter.\n",
    "class rectangle:\n",
    "    def __init__(self,length,width):\n",
    "     self.length=length\n",
    "     self.width=width\n",
    "    def area(self):\n",
    "        return self.length * self.width\n",
    "    def perimeter(self):\n",
    "        return 2 * (self.length + self.width)\n",
    "Rectangle=rectangle(9,3)\n",
    "print(f\"Area:{Rectangle.area()}\")\n",
    "print(f\"Perimeter:{Rectangle.perimeter()}\")\n",
    "      "
   ]
  },
  {
   "cell_type": "code",
   "execution_count": 13,
   "id": "1cf652ff-3124-4652-abc9-9653fa32dd8c",
   "metadata": {},
   "outputs": [
    {
     "name": "stdout",
     "output_type": "stream",
     "text": [
      "Student name is Alina\n",
      "Roll no is: 75\n"
     ]
    }
   ],
   "source": [
    "#Q5. Create a class Student with attributes name, roll_number, and marks. Implement a method to calculate the average marks.\n",
    "class Student:\n",
    "    def __init__(self,name,roll_number,marks):\n",
    "        self.name=name\n",
    "        self.roll_number=roll_number\n",
    "        self.marks=marks\n",
    "    def average(self):\n",
    "        total_marks= sum(self.marks)\n",
    "        num_subjects=len(self.marks)\n",
    "        if num_subjects>0:\n",
    "            average = total_marks/num_subjects\n",
    "            print(f\"Average: {average}\")\n",
    "        else:\n",
    "            print(\"No marks available\")\n",
    "student_info=Student(\"Alina\",75,973)\n",
    "print(f\"Student name is {student_info.name}\")\n",
    "print(f\"Roll no is: {student_info.roll_number}\")"
   ]
  },
  {
   "cell_type": "code",
   "execution_count": 17,
   "id": "cbf258a6-076f-4e42-acc9-8b5a8d106c9d",
   "metadata": {},
   "outputs": [
    {
     "name": "stdout",
     "output_type": "stream",
     "text": [
      "The Alchemist\n",
      "Paulo Coelho\n",
      "1988\n"
     ]
    }
   ],
   "source": [
    "#Q6. Create a class Book with attributes title, author, and publication_year.\n",
    "class Book:\n",
    "    def __init__(self,title,author,publication_year):\n",
    "     self.title=title\n",
    "     self.author=author\n",
    "     self.publication_year=publication_year\n",
    "Book_info=Book(\"The Alchemist\", \"Paulo Coelho\", 1988)\n",
    "print(f\"{Book_info.title}\")\n",
    "print(f\"{Book_info.author}\")\n",
    "print(f\"{Book_info.publication_year}\")"
   ]
  },
  {
   "cell_type": "code",
   "execution_count": 21,
   "id": "ce60a9dd-1b08-47da-97d7-7a0283820469",
   "metadata": {},
   "outputs": [
    {
     "name": "stdout",
     "output_type": "stream",
     "text": [
      "Alice\n",
      "1000000\n",
      "Software Developer\n"
     ]
    }
   ],
   "source": [
    "#Q7. Create a class Employee with attributes name, salary, and designation.\n",
    "class Employee:\n",
    "    def __init__(self,name,salary,designation):\n",
    "     self.name=name\n",
    "     self.salary=salary\n",
    "     self.designation=designation\n",
    "employee_info=Employee(\"Alice\",1000000,\"Software Developer\")\n",
    "print(employee_info.name)\n",
    "print(employee_info.salary)\n",
    "print(employee_info.designation)"
   ]
  },
  {
   "cell_type": "code",
   "execution_count": 23,
   "id": "a06bdba8-7d0d-492a-86e2-846767aa0f1f",
   "metadata": {},
   "outputs": [
    {
     "name": "stdout",
     "output_type": "stream",
     "text": [
      "Account holder: John Doe, Account number: 12345678, Balance: 1000\n",
      "Deposited 500. New balance: 1500\n",
      "Withdrew 300. New balance: 1200\n",
      "Insufficient funds.\n",
      "Final balance: 1200\n"
     ]
    }
   ],
   "source": [
    "#Q8.\n",
    "class Bank:\n",
    "    def __init__(self, name, account_number, balance=0):\n",
    "        self.name = name\n",
    "        self.account_number = account_number\n",
    "        self.balance = balance\n",
    "\n",
    "    def deposit(self, amount):\n",
    "        if amount > 0:\n",
    "            self.balance += amount\n",
    "            print(f\"Deposited {amount}. New balance: {self.balance}\")\n",
    "        else:\n",
    "            print(\"Deposit amount must be positive.\")\n",
    "\n",
    "    def withdraw(self, amount):\n",
    "        if amount > 0:\n",
    "            if amount <= self.balance:\n",
    "                self.balance -= amount\n",
    "                print(f\"Withdrew {amount}. New balance: {self.balance}\")\n",
    "            else:\n",
    "                print(\"Insufficient funds.\")\n",
    "        else:\n",
    "            print(\"Withdrawal amount must be positive.\")\n",
    "    def get_balance(self):\n",
    "        return self.balance\n",
    "    def __str__(self):\n",
    "        return f\"Account holder: {self.name}, Account number: {self.account_number}, Balance: {self.balance}\"\n",
    "\n",
    "account = Bank(\"John Doe\", 12345678, 1000)\n",
    "print(account)\n",
    "account.deposit(500)\n",
    "account.withdraw(300)\n",
    "account.withdraw(1500)\n",
    "print(\"Final balance:\", account.get_balance())"
   ]
  },
  {
   "cell_type": "code",
   "execution_count": null,
   "id": "2848c34b-df13-4a3e-8acb-d36649025b97",
   "metadata": {},
   "outputs": [],
   "source": []
  }
 ],
 "metadata": {
  "kernelspec": {
   "display_name": "Python 3 (ipykernel)",
   "language": "python",
   "name": "python3"
  },
  "language_info": {
   "codemirror_mode": {
    "name": "ipython",
    "version": 3
   },
   "file_extension": ".py",
   "mimetype": "text/x-python",
   "name": "python",
   "nbconvert_exporter": "python",
   "pygments_lexer": "ipython3",
   "version": "3.12.7"
  }
 },
 "nbformat": 4,
 "nbformat_minor": 5
}
